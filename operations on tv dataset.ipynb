{
 "cells": [
  {
   "cell_type": "code",
   "execution_count": 1,
   "id": "368d54a4",
   "metadata": {},
   "outputs": [],
   "source": [
    "import numpy as np\n",
    "import pandas as pd\n",
    "import matplotlib.pyplot as plt"
   ]
  },
  {
   "cell_type": "code",
   "execution_count": 2,
   "id": "6b3c4239",
   "metadata": {},
   "outputs": [],
   "source": [
    "data = pd.read_csv(\"X:\\\\Neil\\\\Code\\\\coding IEEE\\\\CSV\\\\tvmarketing.csv\")"
   ]
  },
  {
   "cell_type": "markdown",
   "id": "386cf5b8",
   "metadata": {},
   "source": [
    "# Data"
   ]
  },
  {
   "cell_type": "code",
   "execution_count": 4,
   "id": "70cae171",
   "metadata": {},
   "outputs": [
    {
     "data": {
      "text/html": [
       "<div>\n",
       "<style scoped>\n",
       "    .dataframe tbody tr th:only-of-type {\n",
       "        vertical-align: middle;\n",
       "    }\n",
       "\n",
       "    .dataframe tbody tr th {\n",
       "        vertical-align: top;\n",
       "    }\n",
       "\n",
       "    .dataframe thead th {\n",
       "        text-align: right;\n",
       "    }\n",
       "</style>\n",
       "<table border=\"1\" class=\"dataframe\">\n",
       "  <thead>\n",
       "    <tr style=\"text-align: right;\">\n",
       "      <th></th>\n",
       "      <th>TV</th>\n",
       "      <th>Sales</th>\n",
       "    </tr>\n",
       "  </thead>\n",
       "  <tbody>\n",
       "    <tr>\n",
       "      <th>0</th>\n",
       "      <td>230.1</td>\n",
       "      <td>22.1</td>\n",
       "    </tr>\n",
       "    <tr>\n",
       "      <th>1</th>\n",
       "      <td>44.5</td>\n",
       "      <td>10.4</td>\n",
       "    </tr>\n",
       "    <tr>\n",
       "      <th>2</th>\n",
       "      <td>17.2</td>\n",
       "      <td>9.3</td>\n",
       "    </tr>\n",
       "    <tr>\n",
       "      <th>3</th>\n",
       "      <td>151.5</td>\n",
       "      <td>18.5</td>\n",
       "    </tr>\n",
       "    <tr>\n",
       "      <th>4</th>\n",
       "      <td>180.8</td>\n",
       "      <td>12.9</td>\n",
       "    </tr>\n",
       "    <tr>\n",
       "      <th>...</th>\n",
       "      <td>...</td>\n",
       "      <td>...</td>\n",
       "    </tr>\n",
       "    <tr>\n",
       "      <th>195</th>\n",
       "      <td>38.2</td>\n",
       "      <td>7.6</td>\n",
       "    </tr>\n",
       "    <tr>\n",
       "      <th>196</th>\n",
       "      <td>94.2</td>\n",
       "      <td>9.7</td>\n",
       "    </tr>\n",
       "    <tr>\n",
       "      <th>197</th>\n",
       "      <td>177.0</td>\n",
       "      <td>12.8</td>\n",
       "    </tr>\n",
       "    <tr>\n",
       "      <th>198</th>\n",
       "      <td>283.6</td>\n",
       "      <td>25.5</td>\n",
       "    </tr>\n",
       "    <tr>\n",
       "      <th>199</th>\n",
       "      <td>232.1</td>\n",
       "      <td>13.4</td>\n",
       "    </tr>\n",
       "  </tbody>\n",
       "</table>\n",
       "<p>200 rows × 2 columns</p>\n",
       "</div>"
      ],
      "text/plain": [
       "        TV  Sales\n",
       "0    230.1   22.1\n",
       "1     44.5   10.4\n",
       "2     17.2    9.3\n",
       "3    151.5   18.5\n",
       "4    180.8   12.9\n",
       "..     ...    ...\n",
       "195   38.2    7.6\n",
       "196   94.2    9.7\n",
       "197  177.0   12.8\n",
       "198  283.6   25.5\n",
       "199  232.1   13.4\n",
       "\n",
       "[200 rows x 2 columns]"
      ]
     },
     "execution_count": 4,
     "metadata": {},
     "output_type": "execute_result"
    }
   ],
   "source": [
    "data"
   ]
  },
  {
   "cell_type": "markdown",
   "id": "25fa59c3",
   "metadata": {},
   "source": [
    "# Stats"
   ]
  },
  {
   "cell_type": "code",
   "execution_count": 15,
   "id": "66846642",
   "metadata": {},
   "outputs": [
    {
     "name": "stdout",
     "output_type": "stream",
     "text": [
      "Value Count =  200\n",
      "Mean TVs:  147.0425\n",
      "Mean Sales:  14.022500000000003\n",
      "Standard Deviation TVs:  85.8542363149081\n",
      "Standard Deviation Sales:  5.217456565710477\n",
      "Minimum TVs:  0.7\n",
      "Minimum Sales:  1.6\n",
      "Maximum TVs:  296.4\n",
      "Maximum Sales:  27.0\n",
      "25% of TVs:  74.375\n",
      "25% of Sales:  10.375\n",
      "50% of TVs:  149.75\n",
      "50% of Sales:  12.9\n",
      "75% of TVs:  218.825\n",
      "75% of Sales:  17.4\n"
     ]
    }
   ],
   "source": [
    "print(\"Value Count = \", len(data))\n",
    "print(\"Mean TVs: \", data['TV'].mean())\n",
    "print(\"Mean Sales: \", data['Sales'].mean())\n",
    "print(\"Standard Deviation TVs: \", data['TV'].std())\n",
    "print(\"Standard Deviation Sales: \", data['Sales'].std())\n",
    "print(\"Minimum TVs: \", data['TV'].min())\n",
    "print(\"Minimum Sales: \", data['Sales'].min())\n",
    "print(\"Maximum TVs: \", data['TV'].max())\n",
    "print(\"Maximum Sales: \", data['Sales'].max())\n",
    "print(\"25% of TVs: \", data['TV'].quantile(0.25))\n",
    "print(\"25% of Sales: \", data['Sales'].quantile(0.25))\n",
    "print(\"50% of TVs: \", data['TV'].quantile(0.50))\n",
    "print(\"50% of Sales: \", data['Sales'].quantile(0.50))\n",
    "print(\"75% of TVs: \", data['TV'].quantile(0.75))\n",
    "print(\"75% of Sales: \", data['Sales'].quantile(0.75))\n",
    "\n",
    "\n"
   ]
  },
  {
   "cell_type": "code",
   "execution_count": null,
   "id": "b9f4b279",
   "metadata": {},
   "outputs": [],
   "source": []
  }
 ],
 "metadata": {
  "kernelspec": {
   "display_name": "Python 3 (ipykernel)",
   "language": "python",
   "name": "python3"
  },
  "language_info": {
   "codemirror_mode": {
    "name": "ipython",
    "version": 3
   },
   "file_extension": ".py",
   "mimetype": "text/x-python",
   "name": "python",
   "nbconvert_exporter": "python",
   "pygments_lexer": "ipython3",
   "version": "3.9.12"
  }
 },
 "nbformat": 4,
 "nbformat_minor": 5
}
